{
 "cells": [
  {
   "cell_type": "markdown",
   "metadata": {},
   "source": [
    "# Images to TFRecords\n",
    "\n",
    "I usually traffic in large datasets that can't fit in memory.  The TFRecords format is a common solution to that.\n",
    "\n",
    "REFERENCE SOURCE: https://www.kaggle.com/code/kawaitsoi/convert-images-and-masks-to-tfrecords-file - by user kawaitsoi"
   ]
  },
  {
   "cell_type": "code",
   "execution_count": 1,
   "metadata": {},
   "outputs": [],
   "source": [
    "import tensorflow as tf\n",
    "import numpy as np\n",
    "import matplotlib.pyplot as plt\n",
    "import tifffile as tif\n",
    "import pandas as pd\n",
    "from loguru import logger\n",
    "\n",
    "pd.set_option('display.max_columns', None)"
   ]
  },
  {
   "cell_type": "code",
   "execution_count": 2,
   "metadata": {},
   "outputs": [
    {
     "name": "stdout",
     "output_type": "stream",
     "text": [
      "<class 'pandas.core.frame.DataFrame'>\n",
      "Index: 612 entries, 0 to 611\n",
      "Data columns (total 8 columns):\n",
      " #   Column           Non-Null Count  Dtype \n",
      "---  ------           --------------  ----- \n",
      " 0   filename         612 non-null    object\n",
      " 1   frame_number     612 non-null    int64 \n",
      " 2   sequence         612 non-null    int64 \n",
      " 3   img_filepath     612 non-null    object\n",
      " 4   gt_filepath      612 non-null    object\n",
      " 5   crossfold_group  612 non-null    int64 \n",
      " 6   fold_number      612 non-null    int64 \n",
      " 7   dset             612 non-null    object\n",
      "dtypes: int64(4), object(4)\n",
      "memory usage: 43.0+ KB\n"
     ]
    },
    {
     "data": {
      "text/html": [
       "<div>\n",
       "<style scoped>\n",
       "    .dataframe tbody tr th:only-of-type {\n",
       "        vertical-align: middle;\n",
       "    }\n",
       "\n",
       "    .dataframe tbody tr th {\n",
       "        vertical-align: top;\n",
       "    }\n",
       "\n",
       "    .dataframe thead th {\n",
       "        text-align: right;\n",
       "    }\n",
       "</style>\n",
       "<table border=\"1\" class=\"dataframe\">\n",
       "  <thead>\n",
       "    <tr style=\"text-align: right;\">\n",
       "      <th></th>\n",
       "      <th>filename</th>\n",
       "      <th>frame_number</th>\n",
       "      <th>sequence</th>\n",
       "      <th>img_filepath</th>\n",
       "      <th>gt_filepath</th>\n",
       "      <th>crossfold_group</th>\n",
       "      <th>fold_number</th>\n",
       "      <th>dset</th>\n",
       "    </tr>\n",
       "  </thead>\n",
       "  <tbody>\n",
       "    <tr>\n",
       "      <th>0</th>\n",
       "      <td>1.tif</td>\n",
       "      <td>1</td>\n",
       "      <td>1</td>\n",
       "      <td>D:/Downloads/Datasets/archive/CVC-ClinicDB/Ori...</td>\n",
       "      <td>D:/Downloads/Datasets/archive/CVC-ClinicDB/Gro...</td>\n",
       "      <td>1</td>\n",
       "      <td>1</td>\n",
       "      <td>validation</td>\n",
       "    </tr>\n",
       "    <tr>\n",
       "      <th>1</th>\n",
       "      <td>2.tif</td>\n",
       "      <td>2</td>\n",
       "      <td>1</td>\n",
       "      <td>D:/Downloads/Datasets/archive/CVC-ClinicDB/Ori...</td>\n",
       "      <td>D:/Downloads/Datasets/archive/CVC-ClinicDB/Gro...</td>\n",
       "      <td>10</td>\n",
       "      <td>1</td>\n",
       "      <td>training</td>\n",
       "    </tr>\n",
       "    <tr>\n",
       "      <th>2</th>\n",
       "      <td>3.tif</td>\n",
       "      <td>3</td>\n",
       "      <td>1</td>\n",
       "      <td>D:/Downloads/Datasets/archive/CVC-ClinicDB/Ori...</td>\n",
       "      <td>D:/Downloads/Datasets/archive/CVC-ClinicDB/Gro...</td>\n",
       "      <td>3</td>\n",
       "      <td>1</td>\n",
       "      <td>test</td>\n",
       "    </tr>\n",
       "  </tbody>\n",
       "</table>\n",
       "</div>"
      ],
      "text/plain": [
       "  filename  frame_number  sequence  \\\n",
       "0    1.tif             1         1   \n",
       "1    2.tif             2         1   \n",
       "2    3.tif             3         1   \n",
       "\n",
       "                                        img_filepath  \\\n",
       "0  D:/Downloads/Datasets/archive/CVC-ClinicDB/Ori...   \n",
       "1  D:/Downloads/Datasets/archive/CVC-ClinicDB/Ori...   \n",
       "2  D:/Downloads/Datasets/archive/CVC-ClinicDB/Ori...   \n",
       "\n",
       "                                         gt_filepath  crossfold_group  \\\n",
       "0  D:/Downloads/Datasets/archive/CVC-ClinicDB/Gro...                1   \n",
       "1  D:/Downloads/Datasets/archive/CVC-ClinicDB/Gro...               10   \n",
       "2  D:/Downloads/Datasets/archive/CVC-ClinicDB/Gro...                3   \n",
       "\n",
       "   fold_number        dset  \n",
       "0            1  validation  \n",
       "1            1    training  \n",
       "2            1        test  "
      ]
     },
     "execution_count": 2,
     "metadata": {},
     "output_type": "execute_result"
    }
   ],
   "source": [
    "df = pd.read_csv('../data/folds/foldSet_1.csv', index_col=0)\n",
    "\n",
    "df.info()\n",
    "df.head(3)"
   ]
  },
  {
   "cell_type": "code",
   "execution_count": 3,
   "metadata": {},
   "outputs": [
    {
     "data": {
      "text/plain": [
       "crossfold_group\n",
       "1     74\n",
       "2     71\n",
       "3     68\n",
       "5     67\n",
       "4     67\n",
       "6     56\n",
       "7     54\n",
       "8     53\n",
       "9     52\n",
       "10    50\n",
       "Name: count, dtype: int64"
      ]
     },
     "execution_count": 3,
     "metadata": {},
     "output_type": "execute_result"
    }
   ],
   "source": [
    "df['crossfold_group'].value_counts() "
   ]
  },
  {
   "cell_type": "code",
   "execution_count": 4,
   "metadata": {},
   "outputs": [
    {
     "data": {
      "text/plain": [
       "dset\n",
       "training      403\n",
       "validation    141\n",
       "test           68\n",
       "Name: count, dtype: int64"
      ]
     },
     "execution_count": 4,
     "metadata": {},
     "output_type": "execute_result"
    }
   ],
   "source": [
    "df['dset'].value_counts() "
   ]
  },
  {
   "cell_type": "code",
   "execution_count": 5,
   "metadata": {},
   "outputs": [],
   "source": [
    "train = df[df['dset'] == 'training'].reset_index(drop=True)\n",
    "val = df[df['dset'] == 'validation'].reset_index(drop=True)\n",
    "tst = df[df['dset'] == 'test'].reset_index(drop=True)"
   ]
  },
  {
   "cell_type": "code",
   "execution_count": null,
   "metadata": {},
   "outputs": [],
   "source": []
  },
  {
   "cell_type": "markdown",
   "metadata": {},
   "source": [
    "## create"
   ]
  },
  {
   "cell_type": "code",
   "execution_count": 6,
   "metadata": {
    "_cell_guid": "eeff0142-e9c9-40f9-a771-c87e1a757d99",
    "_uuid": "d14d3460a74e19b631dc8571bf21164cf4522444"
   },
   "outputs": [],
   "source": [
    "# The following functions can be used to convert a value to a type compatible\n",
    "# with tf.train.Example.\n",
    "\n",
    "def _bytes_feature(value):\n",
    "  \"\"\"\n",
    "  Returns a bytes_list from a string / byte.\n",
    "  SOURCE: https://www.tensorflow.org/tutorials/load_data/tfrecord\n",
    "  \"\"\"\n",
    "  if isinstance(value, type(tf.constant(0))):\n",
    "    value = value.numpy() # BytesList won't unpack a string from an EagerTensor.\n",
    "  return tf.train.Feature(bytes_list=tf.train.BytesList(value=[value]))\n",
    "\n",
    "def _float_feature(value):\n",
    "  \"\"\"\n",
    "  Returns a float_list from a float / double.\n",
    "  SOURCE: https://www.tensorflow.org/tutorials/load_data/tfrecord\n",
    "  \"\"\"\n",
    "  return tf.train.Feature(float_list=tf.train.FloatList(value=[value]))\n",
    "\n",
    "def _int64_feature(value):\n",
    "  \"\"\"\n",
    "  Returns an int64_list from a bool / enum / int / uint.\n",
    "  SOURCE: https://www.tensorflow.org/tutorials/load_data/tfrecord\n",
    "  \"\"\"\n",
    "  return tf.train.Feature(int64_list=tf.train.Int64List(value=[value]))\n",
    "\n",
    "def to_tfrecords(dframe, img_read_func, filestem):\n",
    "    \"\"\"\n",
    "    \"\"\"\n",
    "    #construct list for image paths and their corresponding masks in the same order\n",
    "    #image_path = \"../data/train/*.jpg\"\n",
    "    image_path = dframe['img_filepath']\n",
    "    mask_path = dframe['gt_filepath']\n",
    "    \n",
    "    # path to where the tfrecords will be stored (change to your customized path).\n",
    "    # I can't run this here in Kaggle because of permission. \n",
    "    # Any comment on how to write temporary files in Kaggle will be appreciated.\n",
    "    tfrecords_filename = f'../data/tfrecords/{filestem}.tfrecords'\n",
    "    \n",
    "    # get a writer for the tfrecord file.\n",
    "    with tf.io.TFRecordWriter(tfrecords_filename) as writer:\n",
    "        # write data/masks into tfrecords\n",
    "        for i in range(len(image_path)):\n",
    "            img = np.array(img_read_func(image_path[i]))\n",
    "            mask = np.array(img_read_func(mask_path[i]))\n",
    "        \n",
    "            height, width = img.shape[0], img.shape[1]\n",
    " \n",
    "            img_raw = img.tostring()\n",
    "            mask_raw = mask.tostring()\n",
    "            \n",
    "            # save the heights and widths as well so, which \n",
    "            # are needed when decoding from tfrecords back to images\n",
    "            example = tf.train.Example(features=tf.train.Features(feature={\n",
    "                                                                  'height': _int64_feature(height),\n",
    "                                                                  'width': _int64_feature(width),\n",
    "                                                                  'image_raw': _bytes_feature(img_raw),\n",
    "                                                                  'mask_raw': _bytes_feature(mask_raw)}\n",
    "                                                                  ))\n",
    "            writer.write(example.SerializeToString())\n",
    "\n",
    "    print(f'Wrote file to: {tfrecords_filename}')\n",
    "\n",
    "    return tfrecords_filename"
   ]
  },
  {
   "cell_type": "code",
   "execution_count": null,
   "metadata": {},
   "outputs": [],
   "source": [
    "tfrecords_filename = to_tfrecords(train, tif.imread, 'foldSet1_TRAIN')"
   ]
  },
  {
   "cell_type": "code",
   "execution_count": null,
   "metadata": {},
   "outputs": [],
   "source": []
  },
  {
   "cell_type": "markdown",
   "metadata": {},
   "source": [
    "## Validate/Read"
   ]
  },
  {
   "cell_type": "code",
   "execution_count": null,
   "metadata": {},
   "outputs": [],
   "source": [
    "def read_record(string_record: str):\n",
    "    example = tf.train.Example()\n",
    "    example.ParseFromString(string_record)\n",
    "    \n",
    "    height = int(example.features.feature['height'].int64_list.value[0])\n",
    "    width = int(example.features.feature['width'].int64_list.value[0])\n",
    "    \n",
    "    img_string = (example.features.feature['image_raw'].bytes_list.value[0])\n",
    "    mask_string = (example.features.feature['mask_raw'].bytes_list.value[0])\n",
    "    \n",
    "    img_1d = np.fromstring(img_string, dtype=np.uint8)\n",
    "    mask_1d = np.fromstring(mask_string, dtype=np.uint8)\n",
    "    \n",
    "    #reshape back to their original shape from a 1D array read from tfrecords\n",
    "    img = img_1d.reshape((height, width, -1))\n",
    "    mask = mask_1d.reshape((height, width))\n",
    "    return img, mask"
   ]
  },
  {
   "cell_type": "code",
   "execution_count": null,
   "metadata": {
    "_cell_guid": "c576608e-3b8d-4ead-8bb6-a83c402c6bf1",
    "_uuid": "ac14b9fd2086f4c76f68f7a7d32d58e33ca9a625",
    "scrolled": true
   },
   "outputs": [],
   "source": [
    "#run the following to verify the created tfrecord file.\n",
    "record_iterator = tf.compat.v1.io.tf_record_iterator(path=tfrecords_filename)\n",
    "\n",
    "for string_record in record_iterator:\n",
    "    example = tf.train.Example()\n",
    "    example.ParseFromString(string_record)\n",
    "    \n",
    "    height = int(example.features.feature['height'].int64_list.value[0])\n",
    "    width = int(example.features.feature['width'].int64_list.value[0])\n",
    "    \n",
    "    img_string = (example.features.feature['image_raw'].bytes_list.value[0])\n",
    "    mask_string = (example.features.feature['mask_raw'].bytes_list.value[0])\n",
    "    \n",
    "    img_1d = np.fromstring(img_string, dtype=np.uint8)\n",
    "    mask_1d = np.fromstring(mask_string, dtype=np.uint8)\n",
    "    \n",
    "    #reshape back to their original shape from a 1D array read from tfrecords\n",
    "    img = img_1d.reshape((height, width, -1))\n",
    "    mask = mask_1d.reshape((height, width))\n",
    "    \n",
    "    plt.imshow(img)\n",
    "    plt.show()\n",
    "    plt.imshow(mask)\n",
    "    plt.show()"
   ]
  },
  {
   "cell_type": "code",
   "execution_count": null,
   "metadata": {},
   "outputs": [],
   "source": []
  }
 ],
 "metadata": {
  "kernelspec": {
   "display_name": "Python 3 (ipykernel)",
   "language": "python",
   "name": "python3"
  },
  "language_info": {
   "codemirror_mode": {
    "name": "ipython",
    "version": 3
   },
   "file_extension": ".py",
   "mimetype": "text/x-python",
   "name": "python",
   "nbconvert_exporter": "python",
   "pygments_lexer": "ipython3",
   "version": "3.11.10"
  }
 },
 "nbformat": 4,
 "nbformat_minor": 4
}
