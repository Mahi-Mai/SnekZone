{
 "cells": [
  {
   "cell_type": "markdown",
   "id": "8e3a239e-840b-4e81-bec2-1f4e8797743b",
   "metadata": {},
   "source": [
    "## Hyper paranoid data quality validation\n",
    "\n",
    "Hey, do you know what's a bummer in an image?  NANs.  That'll become more relevant after we generate the augmented images.\n",
    "\n",
    "Also I want to check the image sizes."
   ]
  },
  {
   "cell_type": "code",
   "execution_count": 6,
   "id": "51daeaa8-4d82-4604-a605-b12f83f945f8",
   "metadata": {},
   "outputs": [],
   "source": [
    "import pandas as pd\n",
    "import numpy as np\n",
    "from typing import Tuple\n",
    "\n",
    "import cv2\n",
    "import tifffile as tif\n",
    "from tqdm import tqdm\n",
    "\n",
    "import matplotlib.pyplot as plt\n",
    "%matplotlib inline"
   ]
  },
  {
   "cell_type": "code",
   "execution_count": 3,
   "id": "f2ce61c4-65d5-4a1d-91bb-b11b23dbbac5",
   "metadata": {},
   "outputs": [
    {
     "name": "stdout",
     "output_type": "stream",
     "text": [
      "<class 'pandas.core.frame.DataFrame'>\n",
      "Index: 612 entries, 0 to 611\n",
      "Data columns (total 6 columns):\n",
      " #   Column           Non-Null Count  Dtype \n",
      "---  ------           --------------  ----- \n",
      " 0   filename         612 non-null    object\n",
      " 1   frame_number     612 non-null    int64 \n",
      " 2   sequence         612 non-null    int64 \n",
      " 3   img_filepath     612 non-null    object\n",
      " 4   gt_filepath      612 non-null    object\n",
      " 5   crossfold_group  612 non-null    int64 \n",
      "dtypes: int64(3), object(3)\n",
      "memory usage: 33.5+ KB\n"
     ]
    },
    {
     "data": {
      "text/html": [
       "<div>\n",
       "<style scoped>\n",
       "    .dataframe tbody tr th:only-of-type {\n",
       "        vertical-align: middle;\n",
       "    }\n",
       "\n",
       "    .dataframe tbody tr th {\n",
       "        vertical-align: top;\n",
       "    }\n",
       "\n",
       "    .dataframe thead th {\n",
       "        text-align: right;\n",
       "    }\n",
       "</style>\n",
       "<table border=\"1\" class=\"dataframe\">\n",
       "  <thead>\n",
       "    <tr style=\"text-align: right;\">\n",
       "      <th></th>\n",
       "      <th>filename</th>\n",
       "      <th>frame_number</th>\n",
       "      <th>sequence</th>\n",
       "      <th>img_filepath</th>\n",
       "      <th>gt_filepath</th>\n",
       "      <th>crossfold_group</th>\n",
       "    </tr>\n",
       "  </thead>\n",
       "  <tbody>\n",
       "    <tr>\n",
       "      <th>0</th>\n",
       "      <td>1.tif</td>\n",
       "      <td>1</td>\n",
       "      <td>1</td>\n",
       "      <td>D:/Downloads/Datasets/archive/CVC-ClinicDB/Ori...</td>\n",
       "      <td>D:/Downloads/Datasets/archive/CVC-ClinicDB/Gro...</td>\n",
       "      <td>5</td>\n",
       "    </tr>\n",
       "    <tr>\n",
       "      <th>1</th>\n",
       "      <td>2.tif</td>\n",
       "      <td>2</td>\n",
       "      <td>1</td>\n",
       "      <td>D:/Downloads/Datasets/archive/CVC-ClinicDB/Ori...</td>\n",
       "      <td>D:/Downloads/Datasets/archive/CVC-ClinicDB/Gro...</td>\n",
       "      <td>1</td>\n",
       "    </tr>\n",
       "    <tr>\n",
       "      <th>2</th>\n",
       "      <td>3.tif</td>\n",
       "      <td>3</td>\n",
       "      <td>1</td>\n",
       "      <td>D:/Downloads/Datasets/archive/CVC-ClinicDB/Ori...</td>\n",
       "      <td>D:/Downloads/Datasets/archive/CVC-ClinicDB/Gro...</td>\n",
       "      <td>2</td>\n",
       "    </tr>\n",
       "  </tbody>\n",
       "</table>\n",
       "</div>"
      ],
      "text/plain": [
       "  filename  frame_number  sequence  \\\n",
       "0    1.tif             1         1   \n",
       "1    2.tif             2         1   \n",
       "2    3.tif             3         1   \n",
       "\n",
       "                                        img_filepath  \\\n",
       "0  D:/Downloads/Datasets/archive/CVC-ClinicDB/Ori...   \n",
       "1  D:/Downloads/Datasets/archive/CVC-ClinicDB/Ori...   \n",
       "2  D:/Downloads/Datasets/archive/CVC-ClinicDB/Ori...   \n",
       "\n",
       "                                         gt_filepath  crossfold_group  \n",
       "0  D:/Downloads/Datasets/archive/CVC-ClinicDB/Gro...                5  \n",
       "1  D:/Downloads/Datasets/archive/CVC-ClinicDB/Gro...                1  \n",
       "2  D:/Downloads/Datasets/archive/CVC-ClinicDB/Gro...                2  "
      ]
     },
     "execution_count": 3,
     "metadata": {},
     "output_type": "execute_result"
    }
   ],
   "source": [
    "df = pd.read_csv('../data/stratified-dataset.csv', index_col=0)\n",
    "\n",
    "df.info()\n",
    "df.head(3)"
   ]
  },
  {
   "cell_type": "code",
   "execution_count": 12,
   "id": "6c529f4c-68ab-4a8e-92f4-98d4d3eb6d0f",
   "metadata": {},
   "outputs": [
    {
     "name": "stdout",
     "output_type": "stream",
     "text": [
      "{(288, 384, 3)}\n",
      "{False}\n"
     ]
    }
   ],
   "source": [
    "# Depending on how long this sort of thing takes and\n",
    "# how frequently I do it, I'd consider using joblib to \n",
    "# make this parallel, but my laptop doesn't seem to care.\n",
    "\n",
    "def get_shape(pth: str) -> Tuple:\n",
    "    im = tif.imread(pth)\n",
    "    return im.shape\n",
    "\n",
    "def get_nans(pth: str) -> Tuple:\n",
    "    im = tif.imread(pth)\n",
    "    return np.isnan(im).any()\n",
    "\n",
    "im_shapes = [get_shape(x) for x in df['img_filepath']]\n",
    "im_shapes = set(im_shapes)\n",
    "print(im_shapes)\n",
    "\n",
    "nans = [get_nans(x) for x in df['img_filepath']]\n",
    "nans = set(nans)\n",
    "print(nans)"
   ]
  },
  {
   "cell_type": "code",
   "execution_count": 13,
   "id": "30163728-94c2-4a62-8b0b-73ce63167b8c",
   "metadata": {},
   "outputs": [
    {
     "name": "stdout",
     "output_type": "stream",
     "text": [
      "{(288, 384)}\n",
      "{False}\n"
     ]
    }
   ],
   "source": [
    "gt_shapes = [get_shape(x) for x in df['gt_filepath']]\n",
    "gt_shapes = set(gt_shapes)\n",
    "print(gt_shapes)\n",
    "\n",
    "nans = [get_nans(x) for x in df['gt_filepath']]\n",
    "nans = set(nans)\n",
    "print(nans)"
   ]
  },
  {
   "cell_type": "markdown",
   "id": "0f64b342-aa02-4900-802b-e1e3d1411984",
   "metadata": {},
   "source": [
    "No nans!  Yay!\n",
    "\n",
    "So we're not working with squares, which we knew. But now we  k n o w.  Ugh, should we keep the black part or not... I prefer image realestate to be taken up by meaningful data..."
   ]
  },
  {
   "cell_type": "code",
   "execution_count": null,
   "id": "89b131b0-92fb-4509-a0fa-1961713b8a5c",
   "metadata": {},
   "outputs": [],
   "source": []
  },
  {
   "cell_type": "code",
   "execution_count": null,
   "id": "7c3b5e0f-8970-476e-b7ff-ba10670049f1",
   "metadata": {},
   "outputs": [],
   "source": []
  },
  {
   "cell_type": "code",
   "execution_count": null,
   "id": "2ac296e5-cd57-4e13-b09b-9c1fa94f7d38",
   "metadata": {},
   "outputs": [],
   "source": []
  }
 ],
 "metadata": {
  "kernelspec": {
   "display_name": "Python 3 (ipykernel)",
   "language": "python",
   "name": "python3"
  },
  "language_info": {
   "codemirror_mode": {
    "name": "ipython",
    "version": 3
   },
   "file_extension": ".py",
   "mimetype": "text/x-python",
   "name": "python",
   "nbconvert_exporter": "python",
   "pygments_lexer": "ipython3",
   "version": "3.11.10"
  }
 },
 "nbformat": 4,
 "nbformat_minor": 5
}
