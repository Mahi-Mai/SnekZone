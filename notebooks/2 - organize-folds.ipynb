{
 "cells": [
  {
   "cell_type": "markdown",
   "id": "50bbc3ec-32f0-48b0-8aa3-6c2ff12cd2ea",
   "metadata": {},
   "source": [
    "# Organize data into stratified folds\n",
    "\n",
    "We have 29 sequences with n frames ranging from 6 all the way up to 26. To enable later crossfold validation, I'd like to spread these samples across 6 different groups. That way I can use 3 groups for training, 2 for validation, and 1 for hold out. Any augmented images generated later will stay with their source group."
   ]
  },
  {
   "cell_type": "code",
   "execution_count": 1,
   "id": "d8fe754e-8afd-4c25-84eb-d8dc68e1f7fd",
   "metadata": {},
   "outputs": [],
   "source": [
    "import sys\n",
    "\n",
    "sys.path.append('../src')\n",
    "\n",
    "import snek_utils as snu\n",
    "import matplotlib.pyplot as plt\n",
    "import numpy as np\n",
    "from pathlib import Path\n",
    "import pandas as pd\n",
    "from random import shuffle\n",
    "\n",
    "pd.set_option('display.max_columns', None)\n",
    "%matplotlib inline"
   ]
  },
  {
   "cell_type": "code",
   "execution_count": 2,
   "id": "8005501a-48e2-48dd-ac5f-09ed8fba579e",
   "metadata": {},
   "outputs": [
    {
     "name": "stdout",
     "output_type": "stream",
     "text": [
      "<class 'pandas.core.frame.DataFrame'>\n",
      "Index: 612 entries, 0 to 611\n",
      "Data columns (total 5 columns):\n",
      " #   Column        Non-Null Count  Dtype \n",
      "---  ------        --------------  ----- \n",
      " 0   filename      612 non-null    object\n",
      " 1   frame_number  612 non-null    int64 \n",
      " 2   sequence      612 non-null    int64 \n",
      " 3   img_filepath  612 non-null    object\n",
      " 4   gt_filepath   612 non-null    object\n",
      "dtypes: int64(2), object(3)\n",
      "memory usage: 28.7+ KB\n"
     ]
    },
    {
     "data": {
      "text/html": [
       "<div>\n",
       "<style scoped>\n",
       "    .dataframe tbody tr th:only-of-type {\n",
       "        vertical-align: middle;\n",
       "    }\n",
       "\n",
       "    .dataframe tbody tr th {\n",
       "        vertical-align: top;\n",
       "    }\n",
       "\n",
       "    .dataframe thead th {\n",
       "        text-align: right;\n",
       "    }\n",
       "</style>\n",
       "<table border=\"1\" class=\"dataframe\">\n",
       "  <thead>\n",
       "    <tr style=\"text-align: right;\">\n",
       "      <th></th>\n",
       "      <th>filename</th>\n",
       "      <th>frame_number</th>\n",
       "      <th>sequence</th>\n",
       "      <th>img_filepath</th>\n",
       "      <th>gt_filepath</th>\n",
       "    </tr>\n",
       "  </thead>\n",
       "  <tbody>\n",
       "    <tr>\n",
       "      <th>0</th>\n",
       "      <td>1.tif</td>\n",
       "      <td>1</td>\n",
       "      <td>1</td>\n",
       "      <td>D:/Downloads/Datasets/archive/CVC-ClinicDB/Ori...</td>\n",
       "      <td>D:/Downloads/Datasets/archive/CVC-ClinicDB/Gro...</td>\n",
       "    </tr>\n",
       "    <tr>\n",
       "      <th>1</th>\n",
       "      <td>2.tif</td>\n",
       "      <td>2</td>\n",
       "      <td>1</td>\n",
       "      <td>D:/Downloads/Datasets/archive/CVC-ClinicDB/Ori...</td>\n",
       "      <td>D:/Downloads/Datasets/archive/CVC-ClinicDB/Gro...</td>\n",
       "    </tr>\n",
       "    <tr>\n",
       "      <th>2</th>\n",
       "      <td>3.tif</td>\n",
       "      <td>3</td>\n",
       "      <td>1</td>\n",
       "      <td>D:/Downloads/Datasets/archive/CVC-ClinicDB/Ori...</td>\n",
       "      <td>D:/Downloads/Datasets/archive/CVC-ClinicDB/Gro...</td>\n",
       "    </tr>\n",
       "  </tbody>\n",
       "</table>\n",
       "</div>"
      ],
      "text/plain": [
       "  filename  frame_number  sequence  \\\n",
       "0    1.tif             1         1   \n",
       "1    2.tif             2         1   \n",
       "2    3.tif             3         1   \n",
       "\n",
       "                                        img_filepath  \\\n",
       "0  D:/Downloads/Datasets/archive/CVC-ClinicDB/Ori...   \n",
       "1  D:/Downloads/Datasets/archive/CVC-ClinicDB/Ori...   \n",
       "2  D:/Downloads/Datasets/archive/CVC-ClinicDB/Ori...   \n",
       "\n",
       "                                         gt_filepath  \n",
       "0  D:/Downloads/Datasets/archive/CVC-ClinicDB/Gro...  \n",
       "1  D:/Downloads/Datasets/archive/CVC-ClinicDB/Gro...  \n",
       "2  D:/Downloads/Datasets/archive/CVC-ClinicDB/Gro...  "
      ]
     },
     "execution_count": 2,
     "metadata": {},
     "output_type": "execute_result"
    }
   ],
   "source": [
    "dat = pd.read_csv('../data/CVC-ClinicDB-dataset.csv', index_col=0)\n",
    "\n",
    "dat.info()\n",
    "dat.head(3)"
   ]
  },
  {
   "cell_type": "code",
   "execution_count": null,
   "id": "05247090-b268-4d0d-9f46-ba360356a962",
   "metadata": {},
   "outputs": [],
   "source": []
  },
  {
   "cell_type": "markdown",
   "id": "a4561436-e23f-437f-b33d-b8d3e344cbcd",
   "metadata": {},
   "source": [
    "## Sequence distribution"
   ]
  },
  {
   "cell_type": "code",
   "execution_count": 3,
   "id": "c1165f98-a54f-46fd-8f7a-009b28025b87",
   "metadata": {},
   "outputs": [
    {
     "data": {
      "image/png": "[encoded data removed]",
      "text/plain": [
       "<Figure size 900x500 with 1 Axes>"
      ]
     },
     "metadata": {},
     "output_type": "display_data"
    }
   ],
   "source": [
    "seq = dat['sequence'].value_counts()\n",
    "seq = seq.sort_index()\n",
    "\n",
    "bar_colors = (['blue','red','green','orange','purple'] * 5) + ['blue','red','green','orange']\n",
    "\n",
    "plt.figure(figsize=(9,5))\n",
    "plt.title('Sequence Distribution')\n",
    "plt.bar(seq.index, seq.values, tick_label=seq.index, color=bar_colors)\n",
    "plt.xlabel('sequence_label')\n",
    "plt.ylabel('n_photos')\n",
    "plt.show()"
   ]
  },
  {
   "cell_type": "code",
   "execution_count": null,
   "id": "fe259051-be67-460a-a789-c6312c3d5eac",
   "metadata": {},
   "outputs": [],
   "source": []
  },
  {
   "cell_type": "code",
   "execution_count": 4,
   "id": "aaf2ef1b-500f-40cd-b6f2-af071a4a664c",
   "metadata": {},
   "outputs": [
    {
     "data": {
      "text/plain": [
       "crossfold_group\n",
       "1    119\n",
       "2    106\n",
       "3    100\n",
       "4     98\n",
       "5     96\n",
       "6     93\n",
       "Name: count, dtype: int64"
      ]
     },
     "execution_count": 4,
     "metadata": {},
     "output_type": "execute_result"
    }
   ],
   "source": [
    "# Instinctively I know there's a neater way to do this,\n",
    "# but don't let the perfect be the enemy of the good. Weigh\n",
    "# the time it would take to come up with a better sequence\n",
    "# against what I need right now.\n",
    "\n",
    "# Initialize column\n",
    "dat['crossfold_group'] = 0\n",
    "\n",
    "# I want this many stratified groups\n",
    "n_groups = 6\n",
    "\n",
    "for seq in set(dat['sequence']):\n",
    "    tmp = dat[dat['sequence'] == seq]\n",
    "\n",
    "    # Just take the indexes and just... shuffle\n",
    "    # it a bunch.\n",
    "    tmp_index = list(tmp.index)\n",
    "    \n",
    "    for i in range(100):\n",
    "        shuffle(tmp_index)\n",
    "\n",
    "    # Sequentially split it into 6\n",
    "    # different groups.\n",
    "    sets = snu.split(tmp_index, n_groups)\n",
    "\n",
    "    # Assign the crossfold group number\n",
    "    # using the index values\n",
    "    for i, idx_set in enumerate(sets):\n",
    "        for row_idx in idx_set:\n",
    "            dat.at[row_idx, 'crossfold_group'] = i + 1\n",
    "\n",
    "dat['crossfold_group'].value_counts()    "
   ]
  },
  {
   "cell_type": "markdown",
   "id": "32671902-613b-4d30-9c8a-ab51ba2dfe08",
   "metadata": {},
   "source": [
    "This isn't perfect, but I'm more concerned with even sequence representation than equal folds- they're close enough for me."
   ]
  },
  {
   "cell_type": "code",
   "execution_count": 5,
   "id": "4a2ed995-69f8-4483-a31d-b19c53f8fd04",
   "metadata": {},
   "outputs": [],
   "source": [
    "dat.to_csv('../data/stratified-dataset.csv')"
   ]
  },
  {
   "cell_type": "code",
   "execution_count": null,
   "id": "ea12d6a7-1fc8-4c87-a819-ca993e9b9851",
   "metadata": {},
   "outputs": [],
   "source": []
  }
 ],
 "metadata": {
  "kernelspec": {
   "display_name": "Python 3 (ipykernel)",
   "language": "python",
   "name": "python3"
  },
  "language_info": {
   "codemirror_mode": {
    "name": "ipython",
    "version": 3
   },
   "file_extension": ".py",
   "mimetype": "text/x-python",
   "name": "python",
   "nbconvert_exporter": "python",
   "pygments_lexer": "ipython3",
   "version": "3.11.10"
  }
 },
 "nbformat": 4,
 "nbformat_minor": 5
}
